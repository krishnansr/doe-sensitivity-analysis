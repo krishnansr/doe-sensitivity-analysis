{
 "cells": [
  {
   "cell_type": "code",
   "execution_count": 1,
   "metadata": {
    "colab": {
     "base_uri": "https://localhost:8080/"
    },
    "executionInfo": {
     "elapsed": 4372,
     "status": "ok",
     "timestamp": 1604219180859,
     "user": {
      "displayName": "Siva Ramakrishnan",
      "photoUrl": "https://lh3.googleusercontent.com/a-/AOh14GiRmhZfDQxTKICTmj_0WU8nD97i0LZRIVxB8YNh=s64",
      "userId": "13741681395435039681"
     },
     "user_tz": -330
    },
    "id": "XabjNk4KlZUg",
    "outputId": "3e1e7bfd-8e32-400f-e953-a864b23a903e"
   },
   "outputs": [
    {
     "name": "stdout",
     "output_type": "stream",
     "text": [
      "Requirement already satisfied: pandas in c:\\anaconda3\\lib\\site-packages (1.1.5)\n",
      "Requirement already satisfied: numpy>=1.15.4 in c:\\anaconda3\\lib\\site-packages (from pandas) (1.19.4)\n",
      "Requirement already satisfied: python-dateutil>=2.7.3 in c:\\anaconda3\\lib\\site-packages (from pandas) (2.8.1)\n",
      "Requirement already satisfied: pytz>=2017.2 in c:\\anaconda3\\lib\\site-packages (from pandas) (2020.4)\n",
      "Requirement already satisfied: six>=1.5 in c:\\anaconda3\\lib\\site-packages (from python-dateutil>=2.7.3->pandas) (1.15.0)\n"
     ]
    }
   ],
   "source": [
    "!pip install pandas"
   ]
  },
  {
   "cell_type": "code",
   "execution_count": 2,
   "metadata": {
    "colab": {
     "base_uri": "https://localhost:8080/"
    },
    "executionInfo": {
     "elapsed": 2167,
     "status": "ok",
     "timestamp": 1605496033316,
     "user": {
      "displayName": "J ASWINKUMAR",
      "photoUrl": "",
      "userId": "03183614871311754823"
     },
     "user_tz": -330
    },
    "id": "0fe-gdkZljax",
    "outputId": "f6050fc0-865f-41f0-be0b-a5059b7d2909"
   },
   "outputs": [
    {
     "name": "stdout",
     "output_type": "stream",
     "text": [
      "   Experiment No  factor 1  factor 2  output 1 (units)\n",
      "0              1         3        25               320\n",
      "1              2         3        50               435\n",
      "2              3         6        25               490\n",
      "3              4         6        50               670\n"
     ]
    }
   ],
   "source": [
    "import pandas as pd\n",
    " \n",
    "df=pd.read_csv('../data/2factor_2levels.csv')\n",
    "print(df)"
   ]
  },
  {
   "cell_type": "markdown",
   "metadata": {
    "id": "9tiOhk4z7J7L"
   },
   "source": [
    "## Calculate factor effect Values"
   ]
  },
  {
   "cell_type": "code",
   "execution_count": 3,
   "metadata": {
    "executionInfo": {
     "elapsed": 7446,
     "status": "ok",
     "timestamp": 1605496052505,
     "user": {
      "displayName": "J ASWINKUMAR",
      "photoUrl": "",
      "userId": "03183614871311754823"
     },
     "user_tz": -330
    },
    "id": "J3eUEN6x8QpZ"
   },
   "outputs": [],
   "source": [
    "def get_factor_effect_on_output(factor_values, output_values):\n",
    "    factor_effect = 0\n",
    "    \n",
    "    for i in range(len(output_values)):\n",
    "        if factor_values[i]==max(factor_values):    \n",
    "            factor_effect += output_values[i]\n",
    "        \n",
    "        elif factor_values[i]==min(factor_values):\n",
    "            factor_effect -= output_values[i]\n",
    "    \n",
    "    return factor_effect"
   ]
  },
  {
   "cell_type": "code",
   "execution_count": 4,
   "metadata": {},
   "outputs": [
    {
     "name": "stdout",
     "output_type": "stream",
     "text": [
      "the effect of factor 1 is 405\n",
      "the effect of factor 2 is 295\n"
     ]
    }
   ],
   "source": [
    "for factor in ['factor 1','factor 2']:\n",
    "    factor_effect = get_factor_effect_on_output(df[factor].tolist(), df['output 1 (units)'].tolist())\n",
    "    print(f\"the effect of {factor} is {factor_effect}\")"
   ]
  }
 ],
 "metadata": {
  "colab": {
   "collapsed_sections": [],
   "name": "1) 2factor_2levels.ipynb",
   "provenance": [],
   "toc_visible": true
  },
  "kernelspec": {
   "display_name": "Python 3",
   "language": "python",
   "name": "python3"
  },
  "language_info": {
   "codemirror_mode": {
    "name": "ipython",
    "version": 3
   },
   "file_extension": ".py",
   "mimetype": "text/x-python",
   "name": "python",
   "nbconvert_exporter": "python",
   "pygments_lexer": "ipython3",
   "version": "3.6.5"
  },
  "toc": {
   "base_numbering": 1,
   "nav_menu": {},
   "number_sections": true,
   "sideBar": true,
   "skip_h1_title": false,
   "title_cell": "Table of Contents",
   "title_sidebar": "Contents",
   "toc_cell": false,
   "toc_position": {},
   "toc_section_display": true,
   "toc_window_display": false
  },
  "varInspector": {
   "cols": {
    "lenName": 16,
    "lenType": 16,
    "lenVar": 40
   },
   "kernels_config": {
    "python": {
     "delete_cmd_postfix": "",
     "delete_cmd_prefix": "del ",
     "library": "var_list.py",
     "varRefreshCmd": "print(var_dic_list())"
    },
    "r": {
     "delete_cmd_postfix": ") ",
     "delete_cmd_prefix": "rm(",
     "library": "var_list.r",
     "varRefreshCmd": "cat(var_dic_list()) "
    }
   },
   "types_to_exclude": [
    "module",
    "function",
    "builtin_function_or_method",
    "instance",
    "_Feature"
   ],
   "window_display": false
  }
 },
 "nbformat": 4,
 "nbformat_minor": 1
}
