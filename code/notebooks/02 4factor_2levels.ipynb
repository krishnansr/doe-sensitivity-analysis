{
 "cells": [
  {
   "cell_type": "code",
   "execution_count": 1,
   "metadata": {
    "colab": {
     "base_uri": "https://localhost:8080/",
     "height": 122
    },
    "executionInfo": {
     "elapsed": 5089,
     "status": "ok",
     "timestamp": 1603518994065,
     "user": {
      "displayName": "J ASWINKUMAR",
      "photoUrl": "",
      "userId": "03183614871311754823"
     },
     "user_tz": -330
    },
    "id": "VYC0y6ruLaOJ",
    "outputId": "18a814f4-8426-4431-9cd5-e2aaad77fd76"
   },
   "outputs": [
    {
     "name": "stdout",
     "output_type": "stream",
     "text": [
      "Requirement already satisfied: pandas in c:\\anaconda3\\lib\\site-packages (1.1.5)\n",
      "Requirement already satisfied: numpy>=1.15.4 in c:\\anaconda3\\lib\\site-packages (from pandas) (1.19.4)\n",
      "Requirement already satisfied: pytz>=2017.2 in c:\\anaconda3\\lib\\site-packages (from pandas) (2020.4)\n",
      "Requirement already satisfied: python-dateutil>=2.7.3 in c:\\anaconda3\\lib\\site-packages (from pandas) (2.8.1)\n",
      "Requirement already satisfied: six>=1.5 in c:\\anaconda3\\lib\\site-packages (from python-dateutil>=2.7.3->pandas) (1.15.0)\n"
     ]
    }
   ],
   "source": [
    "!pip install pandas"
   ]
  },
  {
   "cell_type": "code",
   "execution_count": 2,
   "metadata": {
    "colab": {
     "base_uri": "https://localhost:8080/"
    },
    "executionInfo": {
     "elapsed": 983,
     "status": "ok",
     "timestamp": 1605496385025,
     "user": {
      "displayName": "J ASWINKUMAR",
      "photoUrl": "",
      "userId": "03183614871311754823"
     },
     "user_tz": -330
    },
    "id": "Cc6Xb2hZLh7g",
    "outputId": "69b9b9ef-44c8-46ce-da5f-3133f7c21ad7"
   },
   "outputs": [
    {
     "name": "stdout",
     "output_type": "stream",
     "text": [
      "    Experiment No  factor 1  factor 2  factor 3  factor 4  output 1 (units)\n",
      "0               1       3.2        25       5.4       200              17.9\n",
      "1               2       3.2        25       5.4       220              20.3\n",
      "2               3       3.2        25       6.9       200              15.0\n",
      "3               4       3.2        25       6.9       220              18.0\n",
      "4               5       3.2        60       5.4       200              17.5\n",
      "5               6       3.2        60       5.4       220              21.5\n",
      "6               7       3.2        60       6.9       200              24.2\n",
      "7               8       3.2        60       6.9       220              27.6\n",
      "8               9       6.5        25       5.4       200              19.5\n",
      "9              10       6.5        25       5.4       220              22.0\n",
      "10             11       6.5        25       6.9       200              19.5\n",
      "11             12       6.5        25       6.9       220              26.0\n",
      "12             13       6.5        60       5.4       200              24.0\n",
      "13             14       6.5        60       5.4       220              17.0\n",
      "14             15       6.5        60       6.9       200              16.8\n",
      "15             16       6.5        60       6.9       220              20.7\n"
     ]
    }
   ],
   "source": [
    "import pandas as pd\n",
    "import csv\n",
    "\n",
    "df=pd.read_csv('../data/4factor_2levels.csv')\n",
    "print(df)"
   ]
  },
  {
   "cell_type": "code",
   "execution_count": 3,
   "metadata": {
    "colab": {
     "base_uri": "https://localhost:8080/"
    },
    "executionInfo": {
     "elapsed": 1039,
     "status": "ok",
     "timestamp": 1605496390681,
     "user": {
      "displayName": "J ASWINKUMAR",
      "photoUrl": "",
      "userId": "03183614871311754823"
     },
     "user_tz": -330
    },
    "id": "4r38NMSQrMnM",
    "outputId": "532ab822-a309-4f9e-c654-2476d4dc7fd8"
   },
   "outputs": [
    {
     "name": "stdout",
     "output_type": "stream",
     "text": [
      "factor1 list -->  [3.2, 3.2, 3.2, 3.2, 3.2, 3.2, 3.2, 3.2, 6.5, 6.5, 6.5, 6.5, 6.5, 6.5, 6.5, 6.5]\n",
      "factor2 list -->  [25, 25, 25, 25, 60, 60, 60, 60, 25, 25, 25, 25, 60, 60, 60, 60]\n",
      "factor3 list -->  [5.4, 5.4, 6.9, 6.9, 5.4, 5.4, 6.9, 6.9, 5.4, 5.4, 6.9, 6.9, 5.4, 5.4, 6.9, 6.9]\n",
      "factor4 list -->  [200, 220, 200, 220, 200, 220, 200, 220, 200, 220, 200, 220, 200, 220, 200, 220]\n",
      "output list  -->  [17.9, 20.3, 15.0, 18.0, 17.5, 21.5, 24.2, 27.6, 19.5, 22.0, 19.5, 26.0, 24.0, 17.0, 16.8, 20.7]\n"
     ]
    }
   ],
   "source": [
    "print(\"factor1 list --> \",df['factor 1'].tolist())\n",
    "print(\"factor2 list --> \",df['factor 2'].tolist())\n",
    "print(\"factor3 list --> \",df['factor 3'].tolist())\n",
    "print(\"factor4 list --> \",df['factor 4'].tolist())\n",
    "print(\"output list  --> \",df['output 1 (units)'].tolist())"
   ]
  },
  {
   "cell_type": "markdown",
   "metadata": {},
   "source": [
    "## Calculate factor effect Values"
   ]
  },
  {
   "cell_type": "code",
   "execution_count": 4,
   "metadata": {
    "executionInfo": {
     "elapsed": 2853,
     "status": "ok",
     "timestamp": 1605496396371,
     "user": {
      "displayName": "J ASWINKUMAR",
      "photoUrl": "",
      "userId": "03183614871311754823"
     },
     "user_tz": -330
    },
    "id": "ImlRrj1-rfN1"
   },
   "outputs": [],
   "source": [
    "def get_factor_effect_on_output(factor_values, output_values):  # same as 2factor2levels code\n",
    "    factor_effect = 0\n",
    "    \n",
    "    for i in range(len(output_values)):\n",
    "        if factor_values[i]==max(factor_values):    \n",
    "            factor_effect += output_values[i]\n",
    "        \n",
    "        elif factor_values[i]==min(factor_values):\n",
    "            factor_effect -= output_values[i]\n",
    "    \n",
    "    return factor_effect"
   ]
  },
  {
   "cell_type": "code",
   "execution_count": 5,
   "metadata": {
    "colab": {
     "base_uri": "https://localhost:8080/"
    },
    "executionInfo": {
     "elapsed": 1304,
     "status": "ok",
     "timestamp": 1605496398640,
     "user": {
      "displayName": "J ASWINKUMAR",
      "photoUrl": "",
      "userId": "03183614871311754823"
     },
     "user_tz": -330
    },
    "id": "q76jdszIq4rS",
    "outputId": "5f4e4409-88fc-41fa-ce85-6622e3786fb5"
   },
   "outputs": [
    {
     "name": "stdout",
     "output_type": "stream",
     "text": [
      "the effect of factor 1 is 3.5\n",
      "the effect of factor 2 is 11.099999999999994\n",
      "the effect of factor 3 is 8.099999999999994\n",
      "the effect of factor 4 is 18.700000000000003\n"
     ]
    }
   ],
   "source": [
    "for factor in ['factor 1','factor 2','factor 3','factor 4']:\n",
    "    factor_effect=get_factor_effect_on_output(df[factor].tolist(), df['output 1 (units)'].tolist())\n",
    "    print(f\"the effect of {factor} is {factor_effect}\")"
   ]
  }
 ],
 "metadata": {
  "colab": {
   "name": "2) 4factor_2level.ipynb",
   "provenance": []
  },
  "kernelspec": {
   "display_name": "Python 3",
   "language": "python",
   "name": "python3"
  },
  "language_info": {
   "codemirror_mode": {
    "name": "ipython",
    "version": 3
   },
   "file_extension": ".py",
   "mimetype": "text/x-python",
   "name": "python",
   "nbconvert_exporter": "python",
   "pygments_lexer": "ipython3",
   "version": "3.6.5"
  },
  "toc": {
   "base_numbering": 1,
   "nav_menu": {},
   "number_sections": true,
   "sideBar": true,
   "skip_h1_title": false,
   "title_cell": "Table of Contents",
   "title_sidebar": "Contents",
   "toc_cell": false,
   "toc_position": {},
   "toc_section_display": true,
   "toc_window_display": false
  },
  "varInspector": {
   "cols": {
    "lenName": 16,
    "lenType": 16,
    "lenVar": 40
   },
   "kernels_config": {
    "python": {
     "delete_cmd_postfix": "",
     "delete_cmd_prefix": "del ",
     "library": "var_list.py",
     "varRefreshCmd": "print(var_dic_list())"
    },
    "r": {
     "delete_cmd_postfix": ") ",
     "delete_cmd_prefix": "rm(",
     "library": "var_list.r",
     "varRefreshCmd": "cat(var_dic_list()) "
    }
   },
   "types_to_exclude": [
    "module",
    "function",
    "builtin_function_or_method",
    "instance",
    "_Feature"
   ],
   "window_display": false
  }
 },
 "nbformat": 4,
 "nbformat_minor": 1
}
