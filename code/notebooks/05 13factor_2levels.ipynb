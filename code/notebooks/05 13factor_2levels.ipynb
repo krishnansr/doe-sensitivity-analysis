{
 "cells": [
  {
   "cell_type": "code",
   "execution_count": 1,
   "metadata": {
    "colab": {
     "base_uri": "https://localhost:8080/",
     "height": 122
    },
    "executionInfo": {
     "elapsed": 5089,
     "status": "ok",
     "timestamp": 1603518994065,
     "user": {
      "displayName": "J ASWINKUMAR",
      "photoUrl": "",
      "userId": "03183614871311754823"
     },
     "user_tz": -330
    },
    "id": "VYC0y6ruLaOJ",
    "outputId": "18a814f4-8426-4431-9cd5-e2aaad77fd76"
   },
   "outputs": [
    {
     "name": "stdout",
     "output_type": "stream",
     "text": [
      "Requirement already satisfied: pandas in c:\\anaconda3\\envs\\test1\\lib\\site-packages\n",
      "Requirement already satisfied: numpy>=1.13.3 in c:\\anaconda3\\envs\\test1\\lib\\site-packages (from pandas)\n",
      "Requirement already satisfied: pytz>=2017.2 in c:\\anaconda3\\envs\\test1\\lib\\site-packages (from pandas)\n",
      "Requirement already satisfied: python-dateutil>=2.6.1 in c:\\anaconda3\\envs\\test1\\lib\\site-packages (from pandas)\n",
      "Requirement already satisfied: six>=1.5 in c:\\anaconda3\\envs\\test1\\lib\\site-packages (from python-dateutil>=2.6.1->pandas)\n"
     ]
    },
    {
     "name": "stderr",
     "output_type": "stream",
     "text": [
      "You are using pip version 9.0.3, however version 21.1.3 is available.\n",
      "You should consider upgrading via the 'python -m pip install --upgrade pip' command.\n"
     ]
    }
   ],
   "source": [
    "!pip install pandas"
   ]
  },
  {
   "cell_type": "code",
   "execution_count": 36,
   "metadata": {
    "colab": {
     "base_uri": "https://localhost:8080/"
    },
    "executionInfo": {
     "elapsed": 983,
     "status": "ok",
     "timestamp": 1605496385025,
     "user": {
      "displayName": "J ASWINKUMAR",
      "photoUrl": "",
      "userId": "03183614871311754823"
     },
     "user_tz": -330
    },
    "id": "Cc6Xb2hZLh7g",
    "outputId": "69b9b9ef-44c8-46ce-da5f-3133f7c21ad7"
   },
   "outputs": [
    {
     "name": "stdout",
     "output_type": "stream",
     "text": [
      "            o1        o2        o3  f1  f2  f3  f4  f5  f6  f7  f8  f9  f10  \\\n",
      "0    18.664571  0.912755  7.320161  -1  -1   1  -1  -1  -1  -1  -1  -1    1   \n",
      "1    15.820381  0.910424  7.482942  -1  -1   1  -1  -1  -1  -1  -1  -1    1   \n",
      "2    21.132775  0.910279  7.586356  -1  -1   1  -1  -1  -1  -1  -1  -1    1   \n",
      "3     8.800834  0.908270  7.762458  -1  -1   1  -1  -1  -1  -1  -1  -1    1   \n",
      "4    10.378489  0.908696  7.833571  -1  -1   1   1  -1  -1  -1  -1  -1    1   \n",
      "..         ...       ...       ...  ..  ..  ..  ..  ..  ..  ..  ..  ..  ...   \n",
      "265  35.610421  0.900965  8.010373   1   1   1  -1  -1   1   1   1   1    1   \n",
      "266  31.927450  0.902044  7.058374   1   1   1  -1  -1   1   1  -1   1    1   \n",
      "267  19.580835  0.907175  8.317840   1   1   1  -1  -1   1   1   1  -1    1   \n",
      "268  31.016359  0.907167  7.029862   1   1   1  -1  -1   1  -1  -1   1    1   \n",
      "269  44.665721  0.907159  7.572992   1   1   1  -1  -1   1   1   1   1    1   \n",
      "\n",
      "     f11  f12  f13  \n",
      "0     -1   -1   -1  \n",
      "1     -1   -1   -1  \n",
      "2     -1   -1   -1  \n",
      "3     -1   -1   -1  \n",
      "4     -1   -1   -1  \n",
      "..   ...  ...  ...  \n",
      "265    1    1    1  \n",
      "266    1    1    1  \n",
      "267    1    1    1  \n",
      "268    1    1    1  \n",
      "269    1    1    1  \n",
      "\n",
      "[270 rows x 16 columns]\n"
     ]
    }
   ],
   "source": [
    "import pandas as pd\n",
    "import numpy as np\n",
    "import csv\n",
    "\n",
    "df=pd.read_csv('../data/_fasr_data_cleaned_v2.csv')\n",
    "\n",
    "# pre processing\n",
    "df['o1'] = df['o1']*100\n",
    "df['o2'] = df['o2']/100\n",
    "\n",
    "print(df)"
   ]
  },
  {
   "cell_type": "code",
   "execution_count": 37,
   "metadata": {
    "colab": {
     "base_uri": "https://localhost:8080/"
    },
    "executionInfo": {
     "elapsed": 1039,
     "status": "ok",
     "timestamp": 1605496390681,
     "user": {
      "displayName": "J ASWINKUMAR",
      "photoUrl": "",
      "userId": "03183614871311754823"
     },
     "user_tz": -330
    },
    "id": "4r38NMSQrMnM",
    "outputId": "532ab822-a309-4f9e-c654-2476d4dc7fd8"
   },
   "outputs": [
    {
     "data": {
      "text/plain": [
       "'\\nfor ind in range(1, 13+1):\\n    print(f\"factor{ind} list --> \",df[f\\'f{ind}\\'].tolist())\\n\\nfor ind in range(1, 3+1):\\n    print(f\"output{ind} list --> \",df[f\\'o{ind}\\'].tolist())\\n'"
      ]
     },
     "execution_count": 37,
     "metadata": {},
     "output_type": "execute_result"
    }
   ],
   "source": [
    "\"\"\"\n",
    "for ind in range(1, 13+1):\n",
    "    print(f\"factor{ind} list --> \",df[f'f{ind}'].tolist())\n",
    "\n",
    "for ind in range(1, 3+1):\n",
    "    print(f\"output{ind} list --> \",df[f'o{ind}'].tolist())\n",
    "\"\"\""
   ]
  },
  {
   "cell_type": "markdown",
   "metadata": {},
   "source": [
    "## Calculate factor effect Values"
   ]
  },
  {
   "cell_type": "code",
   "execution_count": 38,
   "metadata": {
    "executionInfo": {
     "elapsed": 2853,
     "status": "ok",
     "timestamp": 1605496396371,
     "user": {
      "displayName": "J ASWINKUMAR",
      "photoUrl": "",
      "userId": "03183614871311754823"
     },
     "user_tz": -330
    },
    "id": "ImlRrj1-rfN1"
   },
   "outputs": [],
   "source": [
    "def get_factor_effect(factor_list, output_list, max_inp=1, min_inp=-1):  \n",
    "    # same as 2factor2levels code\n",
    "    factor_effect = 0\n",
    "    mean_weightage = len(output_list)/2\n",
    "    \n",
    "    for fact_val, out_val in zip(factor_list, output_list):\n",
    "        if fact_val == max_inp:    \n",
    "            factor_effect += out_val\n",
    "        \n",
    "        elif fact_val == min_inp:\n",
    "            factor_effect -= out_val\n",
    "    \n",
    "        else:\n",
    "            print(\"something wrong in input\")\n",
    "    \n",
    "    return factor_effect/mean_weightage"
   ]
  },
  {
   "cell_type": "code",
   "execution_count": 39,
   "metadata": {},
   "outputs": [],
   "source": [
    "_factor_names = [f'f{ind}' for ind in range(1, 13+1)]\n",
    "_output_names = [f'o{ind}' for ind in range(1, 3+1)]\n",
    "\n",
    "# rows are f1, f2, .. 13 rows, cols are o1, o2 .. 3 columns\n",
    "output_df = pd.DataFrame(np.nan, columns=_output_names, index=_factor_names)\n",
    "\n",
    "for factor_name, _row in output_df.iterrows():\n",
    "    for output_name in _row.keys():\n",
    "        _factor_effect = get_factor_effect(df[factor_name].tolist(), df[output_name].tolist())\n",
    "        output_df.loc[factor_name][output_name] = _factor_effect\n"
   ]
  },
  {
   "cell_type": "code",
   "execution_count": 40,
   "metadata": {},
   "outputs": [
    {
     "name": "stdout",
     "output_type": "stream",
     "text": [
      "average of composite factor is 9.20924003593155\n",
      "\n",
      "\n",
      "            o1        o2         o3      o_com\n",
      "f1    8.370703 -0.161008  -1.787810   3.439840\n",
      "f2   23.724471  0.646744   5.536177   9.969131\n",
      "f3   42.923680  1.761738  15.549230  20.078216\n",
      "f4  -16.771427 -0.335733  -2.826547   6.644569\n",
      "f5  -22.820793 -0.805717  -7.011744  10.212752\n",
      "f6   18.220893  0.350196   2.951088   7.174059\n",
      "f7   10.300040 -0.040434  -0.540244   3.626906\n",
      "f8    9.118558 -0.080902  -0.893219   3.364226\n",
      "f9   11.231648  0.026967   0.041560   3.766725\n",
      "f10  35.060774  1.599965  14.100403  16.920381\n",
      "f11  32.074730  1.076540   9.562858  14.238043\n",
      "f12  25.940273  0.861468   7.744566  11.515436\n",
      "f13  20.806099  0.552113   4.951300   8.769838\n"
     ]
    }
   ],
   "source": [
    "output_df['o_com'] = 0\n",
    "for output_name in _output_names:\n",
    "    output_df['o_com'] += abs(output_df[output_name])\n",
    "output_df['o_com'] = output_df['o_com']/len(_output_names)\n",
    "\n",
    "com_avg = output_df['o_com'].mean()\n",
    "print(f'average of composite factor is {com_avg}\\n\\n')\n",
    "print(output_df)"
   ]
  },
  {
   "cell_type": "code",
   "execution_count": 18,
   "metadata": {},
   "outputs": [
    {
     "data": {
      "text/plain": [
       " 1    266\n",
       "-1      4\n",
       "Name: f3, dtype: int64"
      ]
     },
     "execution_count": 18,
     "metadata": {},
     "output_type": "execute_result"
    }
   ],
   "source": [
    "df['f3'].value_counts()"
   ]
  },
  {
   "cell_type": "code",
   "execution_count": null,
   "metadata": {},
   "outputs": [],
   "source": [
    "4, 5, 7, 8, 9"
   ]
  }
 ],
 "metadata": {
  "colab": {
   "name": "2) 4factor_2level.ipynb",
   "provenance": []
  },
  "kernelspec": {
   "display_name": "Python 3",
   "language": "python",
   "name": "python3"
  },
  "language_info": {
   "codemirror_mode": {
    "name": "ipython",
    "version": 3
   },
   "file_extension": ".py",
   "mimetype": "text/x-python",
   "name": "python",
   "nbconvert_exporter": "python",
   "pygments_lexer": "ipython3",
   "version": "3.6.5"
  },
  "toc": {
   "base_numbering": 1,
   "nav_menu": {},
   "number_sections": true,
   "sideBar": true,
   "skip_h1_title": false,
   "title_cell": "Table of Contents",
   "title_sidebar": "Contents",
   "toc_cell": false,
   "toc_position": {},
   "toc_section_display": true,
   "toc_window_display": false
  },
  "varInspector": {
   "cols": {
    "lenName": 16,
    "lenType": 16,
    "lenVar": 40
   },
   "kernels_config": {
    "python": {
     "delete_cmd_postfix": "",
     "delete_cmd_prefix": "del ",
     "library": "var_list.py",
     "varRefreshCmd": "print(var_dic_list())"
    },
    "r": {
     "delete_cmd_postfix": ") ",
     "delete_cmd_prefix": "rm(",
     "library": "var_list.r",
     "varRefreshCmd": "cat(var_dic_list()) "
    }
   },
   "types_to_exclude": [
    "module",
    "function",
    "builtin_function_or_method",
    "instance",
    "_Feature"
   ],
   "window_display": false
  }
 },
 "nbformat": 4,
 "nbformat_minor": 1
}
