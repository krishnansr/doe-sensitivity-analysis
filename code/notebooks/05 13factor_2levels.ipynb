{
 "cells": [
  {
   "cell_type": "code",
   "execution_count": 1,
   "metadata": {
    "colab": {
     "base_uri": "https://localhost:8080/",
     "height": 122
    },
    "executionInfo": {
     "elapsed": 5089,
     "status": "ok",
     "timestamp": 1603518994065,
     "user": {
      "displayName": "J ASWINKUMAR",
      "photoUrl": "",
      "userId": "03183614871311754823"
     },
     "user_tz": -330
    },
    "id": "VYC0y6ruLaOJ",
    "outputId": "18a814f4-8426-4431-9cd5-e2aaad77fd76"
   },
   "outputs": [
    {
     "name": "stdout",
     "output_type": "stream",
     "text": [
      "Requirement already satisfied: pandas in c:\\anaconda3\\lib\\site-packages"
     ]
    },
    {
     "name": "stderr",
     "output_type": "stream",
     "text": [
      "You are using pip version 9.0.3, however version 21.2.3 is available.\n",
      "You should consider upgrading via the 'python -m pip install --upgrade pip' command.\n"
     ]
    },
    {
     "name": "stdout",
     "output_type": "stream",
     "text": [
      "\n",
      "Requirement already satisfied: numpy>=1.13.3 in c:\\anaconda3\\lib\\site-packages (from pandas)\n",
      "Requirement already satisfied: pytz>=2017.2 in c:\\anaconda3\\lib\\site-packages (from pandas)\n",
      "Requirement already satisfied: python-dateutil>=2.6.1 in c:\\anaconda3\\lib\\site-packages (from pandas)\n",
      "Requirement already satisfied: six>=1.5 in c:\\anaconda3\\lib\\site-packages (from python-dateutil>=2.6.1->pandas)\n"
     ]
    }
   ],
   "source": [
    "# !pip install pandas"
   ]
  },
  {
   "cell_type": "code",
   "execution_count": 2,
   "metadata": {
    "colab": {
     "base_uri": "https://localhost:8080/"
    },
    "executionInfo": {
     "elapsed": 983,
     "status": "ok",
     "timestamp": 1605496385025,
     "user": {
      "displayName": "J ASWINKUMAR",
      "photoUrl": "",
      "userId": "03183614871311754823"
     },
     "user_tz": -330
    },
    "id": "Cc6Xb2hZLh7g",
    "outputId": "69b9b9ef-44c8-46ce-da5f-3133f7c21ad7"
   },
   "outputs": [
    {
     "name": "stdout",
     "output_type": "stream",
     "text": [
      "            o1        o2        o3  f1  f2  f3  f4  f5  f6  f7  f8  f9  f10  \\\n",
      "0    18.664571  0.912755  7.320161   1   1   1  -1  -1  -1  -1  -1  -1    1   \n",
      "1    15.820381  0.910424  7.482942   1   1   1  -1  -1  -1  -1  -1  -1    1   \n",
      "2    21.132775  0.910279  7.586356   1   1   1  -1  -1  -1  -1  -1  -1    1   \n",
      "3     8.800834  0.908270  7.762458   1   1   1  -1  -1  -1  -1  -1  -1    1   \n",
      "4    10.378489  0.908696  7.833571   1  -1   1   1  -1  -1  -1  -1  -1    1   \n",
      "..         ...       ...       ...  ..  ..  ..  ..  ..  ..  ..  ..  ..  ...   \n",
      "265  35.610421  0.900965  8.010373   1   1   1  -1  -1   1   1   1   1    1   \n",
      "266  31.927450  0.902044  7.058374   1   1   1  -1  -1   1   1  -1   1    1   \n",
      "267  19.580835  0.907175  8.317840   1   1   1  -1  -1   1   1   1  -1    1   \n",
      "268  31.016359  0.907167  7.029862   1   1   1  -1  -1   1  -1  -1   1    1   \n",
      "269  44.665721  0.907159  7.572992   1   1   1  -1  -1   1   1   1   1    1   \n",
      "\n",
      "     f11  f12  f13  \n",
      "0     -1   -1   -1  \n",
      "1     -1   -1   -1  \n",
      "2     -1   -1   -1  \n",
      "3     -1   -1   -1  \n",
      "4     -1   -1   -1  \n",
      "..   ...  ...  ...  \n",
      "265    1    1    1  \n",
      "266    1    1    1  \n",
      "267    1    1    1  \n",
      "268    1    1    1  \n",
      "269    1    1    1  \n",
      "\n",
      "[270 rows x 16 columns]\n"
     ]
    }
   ],
   "source": [
    "import pandas as pd\n",
    "import numpy as np\n",
    "import csv\n",
    "\n",
    "df=pd.read_csv('../data/_fasr_data_cleaned_v2.csv')\n",
    "\n",
    "# pre processing - scale ripple & efficiency\n",
    "df['o1'] = df['o1']*100\n",
    "df['o2'] = df['o2']/100\n",
    "print(df)"
   ]
  },
  {
   "cell_type": "code",
   "execution_count": 3,
   "metadata": {
    "colab": {
     "base_uri": "https://localhost:8080/"
    },
    "executionInfo": {
     "elapsed": 1039,
     "status": "ok",
     "timestamp": 1605496390681,
     "user": {
      "displayName": "J ASWINKUMAR",
      "photoUrl": "",
      "userId": "03183614871311754823"
     },
     "user_tz": -330
    },
    "id": "4r38NMSQrMnM",
    "outputId": "532ab822-a309-4f9e-c654-2476d4dc7fd8"
   },
   "outputs": [
    {
     "data": {
      "text/plain": [
       "'\\nfor ind in range(1, 13+1):\\n    print(f\"factor{ind} list --> \",df[f\\'f{ind}\\'].tolist())\\n\\nfor ind in range(1, 3+1):\\n    print(f\"output{ind} list --> \",df[f\\'o{ind}\\'].tolist())\\n'"
      ]
     },
     "execution_count": 3,
     "metadata": {},
     "output_type": "execute_result"
    }
   ],
   "source": [
    "\"\"\"\n",
    "for ind in range(1, 13+1):\n",
    "    print(f\"factor{ind} list --> \",df[f'f{ind}'].tolist())\n",
    "\n",
    "for ind in range(1, 3+1):\n",
    "    print(f\"output{ind} list --> \",df[f'o{ind}'].tolist())\n",
    "\"\"\""
   ]
  },
  {
   "cell_type": "markdown",
   "metadata": {},
   "source": [
    "## Calculate factor effect Values"
   ]
  },
  {
   "cell_type": "code",
   "execution_count": 4,
   "metadata": {
    "executionInfo": {
     "elapsed": 2853,
     "status": "ok",
     "timestamp": 1605496396371,
     "user": {
      "displayName": "J ASWINKUMAR",
      "photoUrl": "",
      "userId": "03183614871311754823"
     },
     "user_tz": -330
    },
    "id": "ImlRrj1-rfN1"
   },
   "outputs": [],
   "source": [
    "def get_factor_effect(factor_list, output_list, max_inp=1, min_inp=-1):  \n",
    "    # same as 2factor2levels code\n",
    "    factor_effect = 0\n",
    "    mean_weightage = len(output_list)/2\n",
    "    \n",
    "    pos_effect = 0\n",
    "    pos_counts = 0\n",
    "    neg_effect = 0\n",
    "    neg_counts = 0\n",
    "    for fact_val, out_val in zip(factor_list, output_list):\n",
    "        if fact_val == max_inp:    \n",
    "            pos_effect += out_val\n",
    "            pos_counts += 1\n",
    "        \n",
    "        elif fact_val == min_inp:\n",
    "            neg_effect -= out_val\n",
    "            neg_counts += 1\n",
    "    \n",
    "        else:\n",
    "            print(\"something wrong in input\")\n",
    "    \n",
    "    total_counts = pos_counts + neg_counts\n",
    "    factor_effect = (pos_effect*neg_counts/total_counts) + (neg_effect*pos_counts/total_counts)\n",
    "    # print('counts ', pos_counts, neg_counts)\n",
    "    # print('effects ', pos_effect, neg_effect)\n",
    "    \n",
    "    return factor_effect/mean_weightage"
   ]
  },
  {
   "cell_type": "code",
   "execution_count": 5,
   "metadata": {},
   "outputs": [],
   "source": [
    "_factor_names = [f'f{ind}' for ind in range(1, 13+1)]\n",
    "_output_names = [f'o{ind}' for ind in range(1, 3+1)]\n",
    "\n",
    "# rows are f1, f2, .. 13 rows, cols are o1, o2 .. 3 columns\n",
    "output_df = pd.DataFrame(np.nan, columns=_output_names, index=_factor_names)\n",
    "\n",
    "for factor_name, _row in output_df.iterrows():\n",
    "    for output_name in _row.keys():\n",
    "        _factor_effect = get_factor_effect(df[factor_name].tolist(), df[output_name].tolist())\n",
    "        output_df.loc[factor_name][output_name] = _factor_effect\n"
   ]
  },
  {
   "cell_type": "code",
   "execution_count": 6,
   "metadata": {},
   "outputs": [
    {
     "name": "stdout",
     "output_type": "stream",
     "text": [
      "average of composite factor is 1.0514773574829432\n",
      "\n",
      "\n",
      "           o1        o2        o3     o_com\n",
      "f1   0.652043  0.000080 -0.021016  0.224380\n",
      "f2   2.261710  0.000399 -0.074411  0.778840\n",
      "f3   0.022290  0.000090 -0.021373  0.014584\n",
      "f4  -4.294196  0.000221  0.074510  1.456309\n",
      "f5  -1.590756  0.000552  0.064809  0.552039\n",
      "f6   4.855269  0.000287 -0.071751  1.642436\n",
      "f7   5.641002 -0.000047 -0.091588  1.910879\n",
      "f8   5.541243 -0.000110 -0.089541  1.876965\n",
      "f9   5.288502  0.000037 -0.098243  1.795594\n",
      "f10 -1.945234 -0.000115 -0.031650  0.659000\n",
      "f11  2.944511  0.000390  0.020520  0.988474\n",
      "f12  2.495853  0.000430  0.063556  0.853280\n",
      "f13  2.700374  0.000337  0.048570  0.916427\n"
     ]
    }
   ],
   "source": [
    "output_df['o_com'] = 0\n",
    "for output_name in _output_names:\n",
    "    output_df['o_com'] += abs(output_df[output_name])\n",
    "output_df['o_com'] = output_df['o_com']/len(_output_names)\n",
    "\n",
    "com_avg = output_df['o_com'].mean()\n",
    "print(f'average of composite factor is {com_avg}\\n\\n')\n",
    "print(output_df)"
   ]
  },
  {
   "cell_type": "code",
   "execution_count": 7,
   "metadata": {},
   "outputs": [],
   "source": [
    "output_df.to_csv('../data/results_v2.csv')"
   ]
  },
  {
   "cell_type": "code",
   "execution_count": 8,
   "metadata": {},
   "outputs": [
    {
     "data": {
      "text/plain": [
       " 1    161\n",
       "-1    109\n",
       "Name: f6, dtype: int64"
      ]
     },
     "execution_count": 8,
     "metadata": {},
     "output_type": "execute_result"
    }
   ],
   "source": [
    "df['f6'].value_counts()"
   ]
  },
  {
   "cell_type": "code",
   "execution_count": 9,
   "metadata": {},
   "outputs": [
    {
     "data": {
      "text/plain": [
       "4.855268863761316"
      ]
     },
     "execution_count": 9,
     "metadata": {},
     "output_type": "execute_result"
    }
   ],
   "source": [
    " get_factor_effect(df['f6'].tolist(), df['o1'].tolist())"
   ]
  },
  {
   "cell_type": "code",
   "execution_count": null,
   "metadata": {},
   "outputs": [],
   "source": []
  }
 ],
 "metadata": {
  "colab": {
   "name": "2) 4factor_2level.ipynb",
   "provenance": []
  },
  "kernelspec": {
   "display_name": "Python 3",
   "language": "python",
   "name": "python3"
  },
  "language_info": {
   "codemirror_mode": {
    "name": "ipython",
    "version": 3
   },
   "file_extension": ".py",
   "mimetype": "text/x-python",
   "name": "python",
   "nbconvert_exporter": "python",
   "pygments_lexer": "ipython3",
   "version": "3.6.5"
  },
  "toc": {
   "base_numbering": 1,
   "nav_menu": {},
   "number_sections": true,
   "sideBar": true,
   "skip_h1_title": false,
   "title_cell": "Table of Contents",
   "title_sidebar": "Contents",
   "toc_cell": false,
   "toc_position": {},
   "toc_section_display": true,
   "toc_window_display": false
  },
  "varInspector": {
   "cols": {
    "lenName": 16,
    "lenType": 16,
    "lenVar": 40
   },
   "kernels_config": {
    "python": {
     "delete_cmd_postfix": "",
     "delete_cmd_prefix": "del ",
     "library": "var_list.py",
     "varRefreshCmd": "print(var_dic_list())"
    },
    "r": {
     "delete_cmd_postfix": ") ",
     "delete_cmd_prefix": "rm(",
     "library": "var_list.r",
     "varRefreshCmd": "cat(var_dic_list()) "
    }
   },
   "types_to_exclude": [
    "module",
    "function",
    "builtin_function_or_method",
    "instance",
    "_Feature"
   ],
   "window_display": false
  }
 },
 "nbformat": 4,
 "nbformat_minor": 1
}
