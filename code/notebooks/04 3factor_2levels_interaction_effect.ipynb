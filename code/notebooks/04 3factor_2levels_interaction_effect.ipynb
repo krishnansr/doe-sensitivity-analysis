{
 "cells": [
  {
   "cell_type": "code",
   "execution_count": 1,
   "metadata": {
    "colab": {
     "base_uri": "https://localhost:8080/"
    },
    "id": "h03p6eGW3CBo",
    "outputId": "e9b0a4fa-d73e-4355-e9d9-948b5e5135cb"
   },
   "outputs": [
    {
     "name": "stdout",
     "output_type": "stream",
     "text": [
      "Requirement already satisfied: pandas in c:\\anaconda3\\lib\\site-packages (1.1.5)\n",
      "Requirement already satisfied: pytz>=2017.2 in c:\\anaconda3\\lib\\site-packages (from pandas) (2020.4)\n",
      "Requirement already satisfied: numpy>=1.15.4 in c:\\anaconda3\\lib\\site-packages (from pandas) (1.19.4)\n",
      "Requirement already satisfied: python-dateutil>=2.7.3 in c:\\anaconda3\\lib\\site-packages (from pandas) (2.8.1)\n",
      "Requirement already satisfied: six>=1.5 in c:\\anaconda3\\lib\\site-packages (from python-dateutil>=2.7.3->pandas) (1.15.0)\n"
     ]
    }
   ],
   "source": [
    "!pip install pandas"
   ]
  },
  {
   "cell_type": "markdown",
   "metadata": {},
   "source": [
    "## Load Data"
   ]
  },
  {
   "cell_type": "code",
   "execution_count": 2,
   "metadata": {
    "colab": {
     "base_uri": "https://localhost:8080/"
    },
    "id": "BQGZsGBU3KUZ",
    "outputId": "c01cb525-ea9e-44c0-cc20-6df5d678acfb"
   },
   "outputs": [
    {
     "name": "stdout",
     "output_type": "stream",
     "text": [
      "   Experiment No  factor 1  factor 2  factor 3  output 1 (units)  AxB  AxC  \\\n",
      "0              1        45         6        11             17.75    1    1   \n",
      "1              2        45         6        16             20.25    1   -1   \n",
      "2              3        45        10        11             14.90   -1    1   \n",
      "3              4        45        10        16             17.65   -1   -1   \n",
      "4              5        90         6        11             17.60   -1   -1   \n",
      "5              6        90         6        16             21.20   -1    1   \n",
      "6              7        90        10        11             23.65    1   -1   \n",
      "7              8        90        10        16             27.90    1    1   \n",
      "\n",
      "   BxC  AxBxC  \n",
      "0    1     -1  \n",
      "1   -1      1  \n",
      "2   -1      1  \n",
      "3    1     -1  \n",
      "4    1      1  \n",
      "5   -1     -1  \n",
      "6   -1     -1  \n",
      "7    1      1  \n"
     ]
    }
   ],
   "source": [
    "import pandas as pd\n",
    "\n",
    "factor_name_mapping = {\n",
    "    \"factor 1\": \"Boost\",\n",
    "    \"factor 2\": \"Moist\",\n",
    "    \"factor 3\": \"Cycle\",\n",
    "}\n",
    "\n",
    "df=pd.read_csv('../data/3factor_2levels.csv')\n",
    "print(df)"
   ]
  },
  {
   "cell_type": "markdown",
   "metadata": {},
   "source": [
    "## Calculate individual effects"
   ]
  },
  {
   "cell_type": "code",
   "execution_count": 21,
   "metadata": {
    "id": "Ryr6y-rA_PuS"
   },
   "outputs": [],
   "source": [
    "def get_factor_effect_on_output(factor_values, output_values):\n",
    "    factor_effect = 0\n",
    "\n",
      l=len(output_values)/2,
    "    for i in range(len(output_values)):\n",
    "        if factor_values[i]==max(factor_values):    \n",
    "            factor_effect += output_values[i]\n",
    "        elif factor_values[i]==min(factor_values):\n",
    "            factor_effect -= output_values[i]\n",
    "    return factor_effect/l"
   ]
  },
  {
   "cell_type": "code",
   "execution_count": 22,
   "metadata": {
    "colab": {
     "base_uri": "https://localhost:8080/"
    },
    "id": "KEj235xd_0C9",
    "outputId": "18c094eb-1e42-4873-f9fd-9e165c60a8ae"
   },
   "outputs": [
    {
     "name": "stdout",
     "output_type": "stream",
     "text": [
      "factor effect of factor 1 is 4.95\n",
      "factor effect of factor 2 is 1.825\n",
      "factor effect of factor 3 is 3.275\n"
     ]
    }
   ],
   "source": [
    "for factor in ['factor 1','factor 2','factor 3']:\n",
    "    main_effect = get_factor_effect_on_output(df[factor].tolist(), df['output 1 (units)'].tolist())\n",
    "    print(f\"factor effect of {factor} is {round(main_effect,3)}\")"
   ]
  },
  {
   "cell_type": "markdown",
   "metadata": {},
   "source": [
    "## Calculate 2 way interaction effects"
   ]
  },
  {
   "cell_type": "code",
   "execution_count": 5,
   "metadata": {
    "id": "CtFNPPCnDfjv"
   },
   "outputs": [],
   "source": [
    "def twointeff(factor1_values,factor2_values,output_values):\n",
    "    interaction_effect = 0\n",
    "    low_f2_eff_f1 = 0\n",
    "    high_f2_eff_f1 = 0\n",
         n=len(output_values)/2,
    "    \n",
    "    for i in range(len(output_values)):\n",
    "        if factor2_values[i]==min(factor2_values):\n",
    "            if factor1_values[i]==max(factor1_values):\n",
    "                low_f2_eff_f1+=output_values[i]\n",
    "            elif factor1_values[i]==min(factor1_values):\n",
    "                low_f2_eff_f1-=output_values[i]\n",
    "        \n",
    "        elif factor2_values[i]==max(factor2_values):\n",
    "            if factor1_values[i]==max(factor1_values):\n",
    "                high_f2_eff_f1+=output_values[i]\n",
    "            elif factor1_values[i]==min(factor1_values):\n",
    "                high_f2_eff_f1-=output_values[i]\n",
    "        \n",
    "    interaction_effect=high_f2_eff_f1-low_f2_eff_f1\n",
    "    return interaction_effect/n"
   ]
  },
  {
   "cell_type": "code",
   "execution_count": 6,
   "metadata": {
    "colab": {
     "base_uri": "https://localhost:8080/"
    },
    "id": "qqKkuQQNEK8s",
    "outputId": "52ddb97a-7322-483d-f209-a051433ba3c2"
   },
   "outputs": [
    {
     "name": "stdout",
     "output_type": "stream",
     "text": [
      "the interaction effect of Boost and Moist is  4.55\n",
      "the interaction effect of Boost and Cycle is  0.65\n",
      "the interaction effect of Moist and cycle is  0.225\n"
     ]
    }
   ],
   "source": [
    "# TODO: functionalize or use for loops\n",
    "# TODO: use python f string formats\n",
    "bm=twointeff(df['factor 1'].tolist(),df['factor 2'].tolist(),df['output 1 (units)'].tolist())\n",
    "print(\"the interaction effect of Boost and Moist is \",round(bm,3))\n",
    "\n",
    "bc=twointeff(df['factor 1'].tolist(),df['factor 3'].tolist(),df['output 1 (units)'].tolist())\n",
    "print(\"the interaction effect of Boost and Cycle is \",round(bc,3))\n",
    "\n",
    "mc=twointeff(df['factor 2'].tolist(),df['factor 3'].tolist(),df['output 1 (units)'].tolist())\n",
    "print(\"the interaction effect of Moist and cycle is \",round(mc,3))"
   ]
  },
  {
   "cell_type": "markdown",
   "metadata": {},
   "source": [
    "## Calculate 3 way interaction effects"
   ]
  },
  {
   "cell_type": "code",
   "execution_count": 7,
   "metadata": {
    "id": "3zAWKZ7XGORJ"
   },
   "outputs": [],
   "source": [
    "# TODO: change to four space indents\n",
    "def threeinteff(f1,f2,f3,op):\n",
    "  effect_lc=0\n",
    "  effect_hc=0\n",
    "  effect=0\n",
       x= len(op)/2,
    "  for i in range(len(op)):\n",
    "      if f3[i]==min(f3):\n",
    "          if f2[i]==min(f2):\n",
    "              if f1[i]==max(f1):\n",
    "                  effect_lc=effect_lc-op[i]\n",
    "              elif f1[i]==min(f1):\n",
    "                  effect_lc=effect_lc+op[i]\n",
    "          elif f2[i]==max(f2):\n",
    "              if f1[i]==max(f1):\n",
    "                  effect_lc=effect_lc+op[i]\n",
    "              elif f1[i]==min(f1):\n",
    "                  effect_lc=effect_lc-op[i]\n",
    "     elif f3[i]==max(f3):\n",
    "         if f2[i]==min(f2):\n",
    "             if f1[i]==max(f1):\n",
    "                 effect_hc=effect_hc-op[i]\n",
    "             elif f1[i]==min(f1):\n",
    "                 effect_hc=effect_hc+op[i]\n",
    "         elif f2[i]==max(f2):\n",
    "             if f1[i]==max(f1):\n",
    "                 effect_hc=effect_hc+op[i]\n",
    "             elif f1[i]==min(f1):\n",
    "                 effect_hc=effect_hc-op[i]\n",
    "  effect=(effect_hc-effect_lc)/x\n",
    "  return effect"
   ]
  },
  {
   "cell_type": "code",
   "execution_count": 8,
   "metadata": {
    "colab": {
     "base_uri": "https://localhost:8080/"
    },
    "id": "baeb0SmzHnn5",
    "outputId": "ecbb844e-a853-4127-830e-8b9264fb209c"
   },
   "outputs": [
    {
     "name": "stdout",
     "output_type": "stream",
     "text": [
      "the three factor interaction effect of boost,moist and cycle is 0.1\n"
     ]
    }
   ],
   "source": [
    "ThreeWay_interaction=threeinteff(df['factor 1'].tolist(),\n",
    "                                 df['factor 2'].tolist(),\n",
    "                                 df['factor 3'].tolist(),\n",
    "                                 df['output 1 (units)'].tolist())\n",
    "print(\"the three factor interaction effect of boost,moist and cycle is\",round(ThreeWay_interaction,3))"
   ]
  },
  {
   "cell_type": "code",
   "execution_count": null,
   "metadata": {},
   "outputs": [],
   "source": []
  }
 ],
 "metadata": {
  "colab": {
   "name": "Untitled1.ipynb",
   "provenance": []
  },
  "kernelspec": {
   "display_name": "Python 3",
   "language": "python",
   "name": "python3"
  },
  "language_info": {
   "codemirror_mode": {
    "name": "ipython",
    "version": 3
   },
   "file_extension": ".py",
   "mimetype": "text/x-python",
   "name": "python",
   "nbconvert_exporter": "python",
   "pygments_lexer": "ipython3",
   "version": "3.6.5"
  },
  "toc": {
   "base_numbering": 1,
   "nav_menu": {},
   "number_sections": true,
   "sideBar": true,
   "skip_h1_title": false,
   "title_cell": "Table of Contents",
   "title_sidebar": "Contents",
   "toc_cell": false,
   "toc_position": {},
   "toc_section_display": true,
   "toc_window_display": false
  },
  "varInspector": {
   "cols": {
    "lenName": 16,
    "lenType": 16,
    "lenVar": 40
   },
   "kernels_config": {
    "python": {
     "delete_cmd_postfix": "",
     "delete_cmd_prefix": "del ",
     "library": "var_list.py",
     "varRefreshCmd": "print(var_dic_list())"
    },
    "r": {
     "delete_cmd_postfix": ") ",
     "delete_cmd_prefix": "rm(",
     "library": "var_list.r",
     "varRefreshCmd": "cat(var_dic_list()) "
    }
   },
   "types_to_exclude": [
    "module",
    "function",
    "builtin_function_or_method",
    "instance",
    "_Feature"
   ],
   "window_display": false
  }
 },
 "nbformat": 4,
 "nbformat_minor": 1
}
