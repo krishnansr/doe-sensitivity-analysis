{
 "cells": [
  {
   "cell_type": "code",
   "execution_count": 1,
   "metadata": {},
   "outputs": [],
   "source": [
    "import numpy as np\n",
    "from sklearn import datasets, preprocessing\n",
    "from sklearn.model_selection import train_test_split\n",
    "from sklearn.preprocessing import MinMaxScaler\n",
    "from sklearn.preprocessing import StandardScaler\n",
    "from neupy import algorithms\n",
    "import pandas as pd\n",
    "from scipy.optimize import basinhopping"
   ]
  },
  {
   "cell_type": "markdown",
   "metadata": {},
   "source": [
    "# GRNN for all three output variables"
   ]
  },
  {
   "cell_type": "code",
   "execution_count": 6,
   "metadata": {},
   "outputs": [
    {
     "name": "stdout",
     "output_type": "stream",
     "text": [
      "9.738668440081812e-06\n",
      "5.769308061080187e-09\n",
      "0.04757969161972551\n",
      "[[ 6.32143489  0.90482649 18.64073389  6.32105843  0.90473399 18.70804463]\n",
      " [ 6.48421538  0.90228284 15.79001894  6.47950469  0.90225164 16.00073574]\n",
      " [ 6.58771387  0.90212571 21.19043583  6.58835167  0.90205004 20.81801193]\n",
      " [ 6.76506092  0.89993901  8.88612263  6.76240479  0.89994831  9.00140122]\n",
      " [ 6.83610577  0.90034859 10.44046554  6.83740421  0.90025563 10.40055151]\n",
      " [ 7.02119884  0.89771078 14.91772976  7.02200764  0.89761107 14.55290893]\n",
      " [ 7.10372884  0.89819594 11.17074525  7.10340535  0.89808733 11.10024068]\n",
      " [ 7.28174719  0.89515915 12.66288722  7.27788328  0.89518852 12.28692472]\n",
      " [ 7.35485686  0.89525866 14.39108248  7.35272622  0.89516761 14.4961536 ]\n",
      " [ 7.51582938  0.89196143 17.82873233  7.51097968  0.89202736 17.67644505]\n",
      " [ 7.58544814  0.8931388  18.16916605  7.57980037  0.89307367 18.25412583]]\n"
     ]
    }
   ],
   "source": [
    "class GRNN():\n",
    "    def __init__(self, nn, scaler_x, scaler_y):\n",
    "        self.nn = nn\n",
    "        self.scaler_x = scaler_x\n",
    "        self.scaler_y = scaler_y\n",
    "\n",
    "def fit(X_, Y_):\n",
    "    grnns = []\n",
    "    for i in range(Y_.shape[1]):\n",
    "        scaler_x = MinMaxScaler(feature_range=(0, 1))\n",
    "        scaler_y = MinMaxScaler(feature_range=(0, 1))\n",
    "\n",
    "        X = scaler_x.fit_transform(X_)\n",
    "        Y = scaler_y.fit_transform(np.expand_dims(Y_[:, i], -1))\n",
    "\n",
    "        x_train = X[:120, :]\n",
    "        x_test = X[120:, :]\n",
    "\n",
    "        y_train = np.expand_dims(Y[:120, :], -1)\n",
    "        y_test = np.expand_dims(Y[120:, :], -1)\n",
    "        \n",
    "        nw = algorithms.GRNN(std=0.05, verbose=False)\n",
    "        nw.train(x_train, y_train)\n",
    "        \n",
    "        grnns.append(GRNN(nw, scaler_x, scaler_y))\n",
    "        \n",
    "    return grnns\n",
    "\n",
    "def calculate_error(grnns, X_, Y_):\n",
    "    mses = []\n",
    "    for i, grnn in enumerate(grnns):\n",
    "        X = grnn.scaler_x.transform(X_)\n",
    "        pred = grnn.nn.predict(X)\n",
    "        pred= np.squeeze(pred, -1)\n",
    "        pred = grnn.scaler_y.inverse_transform(pred)\n",
    "        mse = np.mean((np.expand_dims(Y_[:, i], -1) - pred) ** 2)\n",
    "        mses.append(mse)\n",
    "    return mses\n",
    "\n",
    "def predict(grnns, X, Y):\n",
    "    tav = 0\n",
    "    eff = 1\n",
    "    tripple = 2\n",
    "    preds = []\n",
    "    for i, grnn in enumerate(grnns):\n",
    "        x_scaled = grnn.scaler_x.transform(X)\n",
    "        pred = grnn.nn.predict(x_scaled)\n",
    "        pred = np.squeeze(pred, -1)\n",
    "        pred = grnn.scaler_y.inverse_transform(pred)\n",
    "        preds.append(pred)\n",
    "        \n",
    "    preds = np.concatenate(preds, axis=1)\n",
    "    print(np.concatenate([Y, preds], axis=1))\n",
    "\n",
    "X_ = pd.read_csv(r'C:\\Users\\Saravanan\\Desktop\\maybe\\paper work\\syncrel\\x.csv', header = None).values#[:, :]\n",
    "Y_ = pd.read_csv(r'C:\\Users\\Saravanan\\Desktop\\maybe\\paper work\\syncrel\\y.csv', header = None).values#[:, 0]\n",
    "grnns = fit(X_, Y_)\n",
    "x_test = X_[120:, :]\n",
    "y_test = Y_[120:, :]\n",
    "mses = calculate_error(grnns, x_test, y_test)\n",
    "for mse in mses:\n",
    "    print(mse)\n",
    "predict(grnns, x_test, y_test)"
   ]
  },
  {
   "cell_type": "code",
   "execution_count": null,
   "metadata": {},
   "outputs": [],
   "source": []
  }
 ],
 "metadata": {
  "kernelspec": {
   "display_name": "Python 3",
   "language": "python",
   "name": "python3"
  },
  "language_info": {
   "codemirror_mode": {
    "name": "ipython",
    "version": 3
   },
   "file_extension": ".py",
   "mimetype": "text/x-python",
   "name": "python",
   "nbconvert_exporter": "python",
   "pygments_lexer": "ipython3",
   "version": "3.6.5"
  },
  "toc": {
   "base_numbering": 1,
   "nav_menu": {},
   "number_sections": true,
   "sideBar": true,
   "skip_h1_title": false,
   "title_cell": "Table of Contents",
   "title_sidebar": "Contents",
   "toc_cell": false,
   "toc_position": {},
   "toc_section_display": true,
   "toc_window_display": false
  },
  "varInspector": {
   "cols": {
    "lenName": 16,
    "lenType": 16,
    "lenVar": 40
   },
   "kernels_config": {
    "python": {
     "delete_cmd_postfix": "",
     "delete_cmd_prefix": "del ",
     "library": "var_list.py",
     "varRefreshCmd": "print(var_dic_list())"
    },
    "r": {
     "delete_cmd_postfix": ") ",
     "delete_cmd_prefix": "rm(",
     "library": "var_list.r",
     "varRefreshCmd": "cat(var_dic_list()) "
    }
   },
   "types_to_exclude": [
    "module",
    "function",
    "builtin_function_or_method",
    "instance",
    "_Feature"
   ],
   "window_display": false
  }
 },
 "nbformat": 4,
 "nbformat_minor": 2
}
